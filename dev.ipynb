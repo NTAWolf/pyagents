{
 "cells": [
  {
   "cell_type": "code",
   "execution_count": null,
   "metadata": {
    "collapsed": true
   },
   "outputs": [],
   "source": [
    "# stop\n",
    "t.stop()"
   ]
  },
  {
   "cell_type": "code",
   "execution_count": 6,
   "metadata": {
    "collapsed": false
   },
   "outputs": [],
   "source": [
    "import threading\n",
    "import os\n",
    "import shutil\n",
    "import numpy as np\n",
    "from basis import GameManager\n",
    "from agents.development import DevelopmentAgent, StoppableThread\n"
   ]
  },
  {
   "cell_type": "code",
   "execution_count": null,
   "metadata": {
    "collapsed": true
   },
   "outputs": [],
   "source": [
    "%matplotlib inline\n",
    "import seaborn as sns"
   ]
  },
  {
   "cell_type": "code",
   "execution_count": null,
   "metadata": {
    "collapsed": false
   },
   "outputs": [],
   "source": [
    "H = 210\n",
    "\n",
    "def show_frame(frame, ax=None):\n",
    "    if not ax:\n",
    "        ax = sns.plt\n",
    "    ax.tick_params(bottom=False, top=False, left=False, right=False)\n",
    "    ax.grid(False)\n",
    "    return ax.imshow(frame, aspect='equal', interpolation=\"nearest\")\n",
    "    \n",
    "def show_rgb(ax=None):\n",
    "    frame = storage['state'].rgb()\n",
    "    return show_frame(frame, ax)\n",
    "\n",
    "def show_grey(ax=None):\n",
    "    frame = storage['state'].grey()[:,:,0]\n",
    "    return show_frame(frame, ax)\n",
    "\n",
    "def show_raw(ax=None):\n",
    "    print \"show_raw doesn't use raw colours yet\"\n",
    "    frame = storage['state'].raw().reshape((H,-1))\n",
    "    return show_frame(frame, ax)\n",
    "\n",
    "def show_ram(ax=None):\n",
    "    frame = storage['state'].ram().reshape((8,-1))\n",
    "    return show_frame(frame, ax)\n",
    "\n",
    "def show_all(ax=None):\n",
    "    fig, axes = sns.plt.subplots(nrows=1, ncols=3)\n",
    "    for func, ax in zip((show_rgb, show_grey, show_raw), axes.flat):\n",
    "        func(ax)\n",
    "    sns.plt.show()\n",
    "    show_ram()\n"
   ]
  },
  {
   "cell_type": "code",
   "execution_count": 7,
   "metadata": {
    "collapsed": true
   },
   "outputs": [],
   "source": [
    "def clear_old_stuff(old_stuff_prep):\n",
    "    d = os.listdir('.')\n",
    "    count = 0\n",
    "    for v in d:\n",
    "        if v.startswith(old_stuff_prep):\n",
    "            if raw_input(\"Remove {}?\\n> \".format(os.path.abspath(v))) == 'y':\n",
    "                shutil.rmtree(v)\n",
    "                print \"Removed {}\".format(os.path.abspath(v))\n",
    "                count += 1\n",
    "            else:\n",
    "                print \"Did not remove it.\"\n",
    "    print \"Removed {} things\".format(count)"
   ]
  },
  {
   "cell_type": "code",
   "execution_count": 8,
   "metadata": {
    "collapsed": false
   },
   "outputs": [
    {
     "name": "stdout",
     "output_type": "stream",
     "text": [
      "Remove /Users/Thorbjorn/ProgrammingProjects/atari/pyagents/demo_results?\n",
      "> y\n",
      "Removed /Users/Thorbjorn/ProgrammingProjects/atari/pyagents/demo_results\n",
      "Removed 1 things\n"
     ]
    }
   ],
   "source": [
    "clear_old_stuff('demo_results')"
   ]
  },
  {
   "cell_type": "code",
   "execution_count": 5,
   "metadata": {
    "collapsed": false
   },
   "outputs": [
    {
     "ename": "NameError",
     "evalue": "global name 'os' is not defined",
     "output_type": "error",
     "traceback": [
      "\u001b[0;31m---------------------------------------------------------------------------\u001b[0m",
      "\u001b[0;31mNameError\u001b[0m                                 Traceback (most recent call last)",
      "\u001b[0;32m<ipython-input-5-e53ee777050a>\u001b[0m in \u001b[0;36m<module>\u001b[0;34m()\u001b[0m\n\u001b[1;32m      2\u001b[0m \u001b[0mD\u001b[0m \u001b[0;34m=\u001b[0m \u001b[0;34m'dev_results'\u001b[0m\u001b[0;34m\u001b[0m\u001b[0m\n\u001b[1;32m      3\u001b[0m \u001b[0mgame\u001b[0m \u001b[0;34m=\u001b[0m \u001b[0;34m'space_invaders.bin'\u001b[0m\u001b[0;34m\u001b[0m\u001b[0m\n\u001b[0;32m----> 4\u001b[0;31m \u001b[0mclear_old_stuff\u001b[0m\u001b[0;34m(\u001b[0m\u001b[0mD\u001b[0m\u001b[0;34m)\u001b[0m\u001b[0;34m\u001b[0m\u001b[0m\n\u001b[0m\u001b[1;32m      5\u001b[0m \u001b[0mstorage\u001b[0m \u001b[0;34m=\u001b[0m \u001b[0mdict\u001b[0m\u001b[0;34m(\u001b[0m\u001b[0;34m)\u001b[0m\u001b[0;34m\u001b[0m\u001b[0m\n\u001b[1;32m      6\u001b[0m \u001b[0mlock\u001b[0m \u001b[0;34m=\u001b[0m \u001b[0mthreading\u001b[0m\u001b[0;34m.\u001b[0m\u001b[0mLock\u001b[0m\u001b[0;34m(\u001b[0m\u001b[0;34m)\u001b[0m\u001b[0;34m\u001b[0m\u001b[0m\n",
      "\u001b[0;32m<ipython-input-2-dd5519f9e0e0>\u001b[0m in \u001b[0;36mclear_old_stuff\u001b[0;34m(old_stuff_prep)\u001b[0m\n\u001b[1;32m      1\u001b[0m \u001b[0;32mdef\u001b[0m \u001b[0mclear_old_stuff\u001b[0m\u001b[0;34m(\u001b[0m\u001b[0mold_stuff_prep\u001b[0m\u001b[0;34m)\u001b[0m\u001b[0;34m:\u001b[0m\u001b[0;34m\u001b[0m\u001b[0m\n\u001b[0;32m----> 2\u001b[0;31m     \u001b[0md\u001b[0m \u001b[0;34m=\u001b[0m \u001b[0mos\u001b[0m\u001b[0;34m.\u001b[0m\u001b[0mlistdir\u001b[0m\u001b[0;34m(\u001b[0m\u001b[0;34m'.'\u001b[0m\u001b[0;34m)\u001b[0m\u001b[0;34m\u001b[0m\u001b[0m\n\u001b[0m\u001b[1;32m      3\u001b[0m     \u001b[0mcount\u001b[0m \u001b[0;34m=\u001b[0m \u001b[0;36m0\u001b[0m\u001b[0;34m\u001b[0m\u001b[0m\n\u001b[1;32m      4\u001b[0m     \u001b[0;32mfor\u001b[0m \u001b[0mv\u001b[0m \u001b[0;32min\u001b[0m \u001b[0md\u001b[0m\u001b[0;34m:\u001b[0m\u001b[0;34m\u001b[0m\u001b[0m\n\u001b[1;32m      5\u001b[0m         \u001b[0;32mif\u001b[0m \u001b[0mv\u001b[0m\u001b[0;34m.\u001b[0m\u001b[0mstartswith\u001b[0m\u001b[0;34m(\u001b[0m\u001b[0mold_stuff_prep\u001b[0m\u001b[0;34m)\u001b[0m\u001b[0;34m:\u001b[0m\u001b[0;34m\u001b[0m\u001b[0m\n",
      "\u001b[0;31mNameError\u001b[0m: global name 'os' is not defined"
     ]
    }
   ],
   "source": [
    "# init\n",
    "D = 'dev_results'\n",
    "game = 'space_invaders.bin'\n",
    "clear_old_stuff(D)\n",
    "storage = dict()\n",
    "lock = threading.Lock()\n",
    "thread_event = threading.Event()\n",
    "agent = DevelopmentAgent(storage=storage, thread_event=thread_event)\n",
    "gm = GameManager(game, agent, D)\n",
    "t = StoppableThread(target=gm.run, kwargs={'n_frames':10})\n",
    "\n",
    "def step(action=None):\n",
    "    if action != None:\n",
    "        set_action(action)\n",
    "    thread_event.set()\n",
    "    \n",
    "def set_action(val):\n",
    "    storage['action'] = val\n",
    "    \n",
    "def kill():\n",
    "    t.stop()\n",
    "    step()"
   ]
  },
  {
   "cell_type": "code",
   "execution_count": null,
   "metadata": {
    "collapsed": false,
    "scrolled": true
   },
   "outputs": [],
   "source": [
    "# run\n",
    "t.start()"
   ]
  },
  {
   "cell_type": "code",
   "execution_count": null,
   "metadata": {
    "collapsed": true
   },
   "outputs": [],
   "source": [
    "kill()"
   ]
  },
  {
   "cell_type": "code",
   "execution_count": null,
   "metadata": {
    "collapsed": false
   },
   "outputs": [],
   "source": [
    "step(0)\n",
    "show_all()"
   ]
  },
  {
   "cell_type": "code",
   "execution_count": null,
   "metadata": {
    "collapsed": false
   },
   "outputs": [],
   "source": [
    "step(0)"
   ]
  },
  {
   "cell_type": "code",
   "execution_count": null,
   "metadata": {
    "collapsed": true
   },
   "outputs": [],
   "source": [
    "dict.get?"
   ]
  },
  {
   "cell_type": "code",
   "execution_count": null,
   "metadata": {
    "collapsed": false
   },
   "outputs": [],
   "source": [
    "storage.get('action', \"nonono\")"
   ]
  },
  {
   "cell_type": "code",
   "execution_count": null,
   "metadata": {
    "collapsed": true
   },
   "outputs": [],
   "source": []
  }
 ],
 "metadata": {
  "kernelspec": {
   "display_name": "Python 2",
   "language": "python",
   "name": "python2"
  },
  "language_info": {
   "codemirror_mode": {
    "name": "ipython",
    "version": 2
   },
   "file_extension": ".py",
   "mimetype": "text/x-python",
   "name": "python",
   "nbconvert_exporter": "python",
   "pygments_lexer": "ipython2",
   "version": "2.7.10"
  }
 },
 "nbformat": 4,
 "nbformat_minor": 0
}
