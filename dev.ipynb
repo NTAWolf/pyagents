{
 "metadata": {
  "kernelspec": {
   "display_name": "Python 2",
   "language": "python",
   "name": "python2"
  },
  "language_info": {
   "codemirror_mode": {
    "name": "ipython",
    "version": 2
   },
   "file_extension": ".py",
   "mimetype": "text/x-python",
   "name": "python",
   "nbconvert_exporter": "python",
   "pygments_lexer": "ipython2",
   "version": "2.7.10"
  },
  "name": ""
 },
 "nbformat": 3,
 "nbformat_minor": 0,
 "worksheets": [
  {
   "cells": [
    {
     "cell_type": "code",
     "collapsed": true,
     "input": [
      "# stop\n",
      "t.stop()"
     ],
     "language": "python",
     "metadata": {},
     "outputs": []
    },
    {
     "cell_type": "code",
     "collapsed": false,
     "input": [
      "import threading\n",
      "import os\n",
      "import shutil\n",
      "import numpy as np\n",
      "from game_manager import GameManager\n",
      "from agents.development import DevelopmentAgent, StoppableThread\n"
     ],
     "language": "python",
     "metadata": {},
     "outputs": []
    },
    {
     "cell_type": "code",
     "collapsed": true,
     "input": [
      "%matplotlib inline\n",
      "import seaborn as sns"
     ],
     "language": "python",
     "metadata": {},
     "outputs": []
    },
    {
     "cell_type": "code",
     "collapsed": false,
     "input": [
      "H = 210\n",
      "\n",
      "def show_frame(frame, ax=None):\n",
      "    if not ax:\n",
      "        ax = sns.plt\n",
      "    ax.tick_params(bottom=False, top=False, left=False, right=False)\n",
      "    ax.grid(False)\n",
      "    return ax.imshow(frame, aspect='equal', interpolation=\"nearest\")\n",
      "    \n",
      "def show_rgb(ax=None):\n",
      "    frame = storage['state'].rgb()\n",
      "    return show_frame(frame, ax)\n",
      "\n",
      "def show_grey(ax=None):\n",
      "    frame = storage['state'].grey()[:,:,0]\n",
      "    return show_frame(frame, ax)\n",
      "\n",
      "def show_raw(ax=None):\n",
      "    print \"show_raw doesn't use raw colours yet\"\n",
      "    frame = storage['state'].raw().reshape((H,-1))\n",
      "    return show_frame(frame, ax)\n",
      "\n",
      "def show_ram(ax=None):\n",
      "    frame = storage['state'].ram().reshape((8,-1))\n",
      "    return show_frame(frame, ax)\n",
      "\n",
      "def show_all(ax=None):\n",
      "    fig, axes = sns.plt.subplots(nrows=1, ncols=3)\n",
      "    for func, ax in zip((show_rgb, show_grey, show_raw), axes.flat):\n",
      "        func(ax)\n",
      "    sns.plt.show()\n",
      "    show_ram()\n"
     ],
     "language": "python",
     "metadata": {},
     "outputs": []
    },
    {
     "cell_type": "code",
     "collapsed": true,
     "input": [
      "def clear_old_stuff(old_stuff_prep):\n",
      "    d = os.listdir('.')\n",
      "    count = 0\n",
      "    for v in d:\n",
      "        if v.startswith(old_stuff_prep):\n",
      "            if raw_input(\"Remove {}?\\ny/n> \".format(os.path.abspath(v))) == 'y':\n",
      "                shutil.rmtree(v)\n",
      "                print \"Removed {}\".format(os.path.abspath(v))\n",
      "                count += 1\n",
      "            else:\n",
      "                print \"Did not remove it.\"\n",
      "    print \"Removed {} things\".format(count)"
     ],
     "language": "python",
     "metadata": {},
     "outputs": []
    },
    {
     "cell_type": "code",
     "collapsed": false,
     "input": [
      "# init\n",
      "D = 'dev_results'\n",
      "game = 'space_invaders.bin'\n",
      "clear_old_stuff(D)\n",
      "storage = dict()\n",
      "lock = threading.Lock()\n",
      "thread_event = threading.Event()\n",
      "agent = DevelopmentAgent(storage=storage, thread_event=thread_event)\n",
      "gm = GameManager(game, agent, D)\n",
      "t = StoppableThread(target=gm.run, kwargs={'n_frames':10})\n",
      "\n",
      "def step(action=None, nsteps=1):\n",
      "    if action != None:\n",
      "        set_action(action)\n",
      "    for _ in xrange(nsteps):\n",
      "        thread_event.set()\n",
      "        thread_event.wait()\n",
      "    \n",
      "def set_action(val):\n",
      "    storage['action'] = val\n",
      "    \n",
      "def kill():\n",
      "    t.stop()\n",
      "    step()"
     ],
     "language": "python",
     "metadata": {},
     "outputs": []
    },
    {
     "cell_type": "code",
     "collapsed": false,
     "input": [
      "# run\n",
      "t.start()"
     ],
     "language": "python",
     "metadata": {
      "scrolled": true
     },
     "outputs": []
    },
    {
     "cell_type": "code",
     "collapsed": false,
     "input": [
      "kill()"
     ],
     "language": "python",
     "metadata": {},
     "outputs": []
    },
    {
     "cell_type": "code",
     "collapsed": false,
     "input": [
      "step(3)\n",
      "show_all()"
     ],
     "language": "python",
     "metadata": {},
     "outputs": []
    },
    {
     "cell_type": "code",
     "collapsed": true,
     "input": [
      "class RAMHandler(object):\n",
      "    def __init__(self, mem_size):\n",
      "        self.count = 0 \n",
      "        self.mem = util.CircularList(mem_size)\n",
      "        \n",
      "    def update(self):\n",
      "        self.mem.insert(storage['state'].ram())\n",
      "        self.count += 1\n",
      "    \n",
      "    def get_diff(self):\n",
      "        if self.count < 1:\n",
      "            return self.mem[0]\n",
      "        return self.mem[0] - self.mem[1]\n",
      "        "
     ],
     "language": "python",
     "metadata": {},
     "outputs": []
    },
    {
     "cell_type": "code",
     "collapsed": false,
     "input": [
      "rh = RAMHandler(2)"
     ],
     "language": "python",
     "metadata": {},
     "outputs": []
    },
    {
     "cell_type": "code",
     "collapsed": false,
     "input": [
      "(rh.mem[0] - rh.mem[1]).any()"
     ],
     "language": "python",
     "metadata": {},
     "outputs": []
    },
    {
     "cell_type": "code",
     "collapsed": true,
     "input": [
      "def n_order_diff(data, n):\n",
      "    data = data[:n+1]\n",
      "    while len(data) > 1:\n",
      "        data = [x+y for x,y in zip(data[:-1],data[1:])]\n",
      "    return data[0]"
     ],
     "language": "python",
     "metadata": {},
     "outputs": []
    },
    {
     "cell_type": "code",
     "collapsed": false,
     "input": [
      "np.random.randint(-10, 10, 10)"
     ],
     "language": "python",
     "metadata": {},
     "outputs": []
    },
    {
     "cell_type": "code",
     "collapsed": false,
     "input": [
      "data = [-6, 8, -1, -10, -8, 4, -3, 8, 4, -2]\n",
      "#data = range(10)\n",
      "for n in rangege(len(data)-1):\n",
      "    print n, n_order_diff(data, n)"
     ],
     "language": "python",
     "metadata": {},
     "outputs": []
    },
    {
     "cell_type": "code",
     "collapsed": true,
     "input": [],
     "language": "python",
     "metadata": {},
     "outputs": []
    },
    {
     "cell_type": "code",
     "collapsed": true,
     "input": [],
     "language": "python",
     "metadata": {},
     "outputs": []
    },
    {
     "cell_type": "heading",
     "level": 1,
     "metadata": {},
     "source": [
      "Image feature extraction"
     ]
    },
    {
     "cell_type": "code",
     "collapsed": true,
     "input": [
      "from scipy.misc import imresize\n",
      "from scipy.ndimage import zoom"
     ],
     "language": "python",
     "metadata": {},
     "outputs": []
    },
    {
     "cell_type": "code",
     "collapsed": false,
     "input": [
      "help(imresize)"
     ],
     "language": "python",
     "metadata": {
      "scrolled": true
     },
     "outputs": []
    },
    {
     "cell_type": "code",
     "collapsed": false,
     "input": [
      "help(zoom)"
     ],
     "language": "python",
     "metadata": {
      "scrolled": true
     },
     "outputs": []
    },
    {
     "cell_type": "code",
     "collapsed": false,
     "input": [
      "np.stack([img, img, img], axis=-1).shape"
     ],
     "language": "python",
     "metadata": {},
     "outputs": []
    },
    {
     "cell_type": "code",
     "collapsed": false,
     "input": [
      "img = imresize(np.array([[1.0, 0.7],[0.5, 0.3]]), (210,160), 'bicubic')\n",
      "img.shape"
     ],
     "language": "python",
     "metadata": {},
     "outputs": []
    },
    {
     "cell_type": "code",
     "collapsed": false,
     "input": [
      "def show(img):\n",
      "    sns.plt.imshow(img, interpolation='nearest')"
     ],
     "language": "python",
     "metadata": {},
     "outputs": []
    },
    {
     "cell_type": "code",
     "collapsed": false,
     "input": [
      "help(np.stack)"
     ],
     "language": "python",
     "metadata": {
      "scrolled": true
     },
     "outputs": []
    },
    {
     "cell_type": "code",
     "collapsed": false,
     "input": [
      "show(np.mean(np.stack([frames[0][10:,:,:], frames[1][:-10,:,:]]),axis=0))"
     ],
     "language": "python",
     "metadata": {},
     "outputs": []
    },
    {
     "cell_type": "code",
     "collapsed": false,
     "input": [
      "show(np.max(np.stack(frames[:2]),axis=0))"
     ],
     "language": "python",
     "metadata": {},
     "outputs": []
    },
    {
     "cell_type": "code",
     "collapsed": false,
     "input": [
      "show(frames[0])\n",
      "sns.plt.figure()\n",
      "show(frames[1])"
     ],
     "language": "python",
     "metadata": {
      "scrolled": true
     },
     "outputs": []
    },
    {
     "cell_type": "code",
     "collapsed": true,
     "input": [
      "frames2 = []"
     ],
     "language": "python",
     "metadata": {},
     "outputs": []
    },
    {
     "cell_type": "code",
     "collapsed": true,
     "input": [
      "step(2, 1000)"
     ],
     "language": "python",
     "metadata": {},
     "outputs": []
    },
    {
     "cell_type": "code",
     "collapsed": false,
     "input": [
      "show(frames2[0])"
     ],
     "language": "python",
     "metadata": {},
     "outputs": []
    },
    {
     "cell_type": "code",
     "collapsed": false,
     "input": [
      "show(imresize(frames[0], (64,64), 'bilinear'))"
     ],
     "language": "python",
     "metadata": {
      "scrolled": true
     },
     "outputs": []
    },
    {
     "cell_type": "code",
     "collapsed": false,
     "input": [
      "show(imresize(img, (2,2), 'nearest'))"
     ],
     "language": "python",
     "metadata": {},
     "outputs": []
    },
    {
     "cell_type": "code",
     "collapsed": true,
     "input": [
      "rgb = storage['state'].rgb()"
     ],
     "language": "python",
     "metadata": {},
     "outputs": []
    },
    {
     "cell_type": "code",
     "collapsed": true,
     "input": [
      "raw = storage['state'].raw()"
     ],
     "language": "python",
     "metadata": {},
     "outputs": []
    },
    {
     "cell_type": "code",
     "collapsed": false,
     "input": [
      "[x for x in dir(np) if 'axis' in x]"
     ],
     "language": "python",
     "metadata": {},
     "outputs": []
    },
    {
     "cell_type": "code",
     "collapsed": false,
     "input": [
      "src = np.array([0,1,2,7,2], dtype=np.uint8)\n",
      "src"
     ],
     "language": "python",
     "metadata": {},
     "outputs": []
    },
    {
     "cell_type": "code",
     "collapsed": false,
     "input": [
      "src = np.array([[0,1,2],[2,2,0]], dtype=np.uint8)\n",
      "src"
     ],
     "language": "python",
     "metadata": {},
     "outputs": []
    },
    {
     "cell_type": "code",
     "collapsed": false,
     "input": [
      "target = np.zeros(src.shape + (128,), dtype=np.bool8)\n",
      "target.shape"
     ],
     "language": "python",
     "metadata": {
      "scrolled": true
     },
     "outputs": []
    },
    {
     "cell_type": "code",
     "collapsed": false,
     "input": [
      "np.arange(len(src))"
     ],
     "language": "python",
     "metadata": {},
     "outputs": []
    },
    {
     "cell_type": "code",
     "collapsed": true,
     "input": [],
     "language": "python",
     "metadata": {},
     "outputs": []
    },
    {
     "cell_type": "code",
     "collapsed": false,
     "input": [
      "target[np.arange(src.shape[0]), np.arange(src.shape[1]), src] = True # How can I index with a 2d array values plus indices?\n",
      "target"
     ],
     "language": "python",
     "metadata": {},
     "outputs": []
    },
    {
     "cell_type": "code",
     "collapsed": false,
     "input": [
      "np.argpartition(target)"
     ],
     "language": "python",
     "metadata": {},
     "outputs": []
    },
    {
     "cell_type": "code",
     "collapsed": true,
     "input": [],
     "language": "python",
     "metadata": {},
     "outputs": []
    },
    {
     "cell_type": "code",
     "collapsed": false,
     "input": [
      "show(raw.reshape((210,-1)))"
     ],
     "language": "python",
     "metadata": {},
     "outputs": []
    },
    {
     "cell_type": "code",
     "collapsed": false,
     "input": [
      "show(rgb[:,:,2])"
     ],
     "language": "python",
     "metadata": {},
     "outputs": []
    },
    {
     "cell_type": "code",
     "collapsed": false,
     "input": [
      "frame = storage['state'].rgb()\n",
      "show(imresize(np.sum(np.multiply(frame, np.array([0.3, 0.59, 0.11])),axis=2), (64,64)))"
     ],
     "language": "python",
     "metadata": {},
     "outputs": []
    },
    {
     "cell_type": "code",
     "collapsed": false,
     "input": [
      "g = storage['state'].grey()\n",
      "show(imresize(g.squeeze(), (32,32), 'bilinear'))"
     ],
     "language": "python",
     "metadata": {},
     "outputs": []
    },
    {
     "cell_type": "code",
     "collapsed": false,
     "input": [
      "show(f[0,:,:])"
     ],
     "language": "python",
     "metadata": {},
     "outputs": []
    },
    {
     "cell_type": "code",
     "collapsed": true,
     "input": [],
     "language": "python",
     "metadata": {},
     "outputs": []
    }
   ],
   "metadata": {}
  }
 ]
}